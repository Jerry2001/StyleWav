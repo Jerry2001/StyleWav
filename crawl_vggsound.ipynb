{
 "cells": [
  {
   "cell_type": "code",
   "execution_count": 6,
   "metadata": {},
   "outputs": [],
   "source": [
    "import pandas as pd"
   ]
  },
  {
   "cell_type": "code",
   "execution_count": 7,
   "metadata": {},
   "outputs": [],
   "source": [
    "df = pd.read_csv('vggsound.csv', header = None)\n",
    "df = df.rename(columns={0: 'link', 1: 'start_second', 2:'description', 3:'train'})"
   ]
  },
  {
   "cell_type": "code",
   "execution_count": 8,
   "metadata": {},
   "outputs": [
    {
     "data": {
      "text/html": [
       "<div>\n",
       "<style scoped>\n",
       "    .dataframe tbody tr th:only-of-type {\n",
       "        vertical-align: middle;\n",
       "    }\n",
       "\n",
       "    .dataframe tbody tr th {\n",
       "        vertical-align: top;\n",
       "    }\n",
       "\n",
       "    .dataframe thead th {\n",
       "        text-align: right;\n",
       "    }\n",
       "</style>\n",
       "<table border=\"1\" class=\"dataframe\">\n",
       "  <thead>\n",
       "    <tr style=\"text-align: right;\">\n",
       "      <th></th>\n",
       "      <th>link</th>\n",
       "      <th>start_second</th>\n",
       "      <th>description</th>\n",
       "      <th>train</th>\n",
       "    </tr>\n",
       "  </thead>\n",
       "  <tbody>\n",
       "    <tr>\n",
       "      <th>0</th>\n",
       "      <td>---g-f_I2yQ</td>\n",
       "      <td>1</td>\n",
       "      <td>people marching</td>\n",
       "      <td>test</td>\n",
       "    </tr>\n",
       "    <tr>\n",
       "      <th>1</th>\n",
       "      <td>--0PQM4-hqg</td>\n",
       "      <td>30</td>\n",
       "      <td>waterfall burbling</td>\n",
       "      <td>train</td>\n",
       "    </tr>\n",
       "    <tr>\n",
       "      <th>2</th>\n",
       "      <td>--56QUhyDQM</td>\n",
       "      <td>185</td>\n",
       "      <td>playing tennis</td>\n",
       "      <td>train</td>\n",
       "    </tr>\n",
       "    <tr>\n",
       "      <th>3</th>\n",
       "      <td>--5OkAjCI7g</td>\n",
       "      <td>40</td>\n",
       "      <td>people belly laughing</td>\n",
       "      <td>train</td>\n",
       "    </tr>\n",
       "    <tr>\n",
       "      <th>4</th>\n",
       "      <td>--8puiAGLhs</td>\n",
       "      <td>30</td>\n",
       "      <td>car engine starting</td>\n",
       "      <td>train</td>\n",
       "    </tr>\n",
       "    <tr>\n",
       "      <th>...</th>\n",
       "      <td>...</td>\n",
       "      <td>...</td>\n",
       "      <td>...</td>\n",
       "      <td>...</td>\n",
       "    </tr>\n",
       "    <tr>\n",
       "      <th>199171</th>\n",
       "      <td>zzsUhaDSqzI</td>\n",
       "      <td>145</td>\n",
       "      <td>lathe spinning</td>\n",
       "      <td>train</td>\n",
       "    </tr>\n",
       "    <tr>\n",
       "      <th>199172</th>\n",
       "      <td>zztvx3WUBss</td>\n",
       "      <td>30</td>\n",
       "      <td>people shuffling</td>\n",
       "      <td>train</td>\n",
       "    </tr>\n",
       "    <tr>\n",
       "      <th>199173</th>\n",
       "      <td>zzvCPtdNxNo</td>\n",
       "      <td>68</td>\n",
       "      <td>civil defense siren</td>\n",
       "      <td>test</td>\n",
       "    </tr>\n",
       "    <tr>\n",
       "      <th>199174</th>\n",
       "      <td>zzvSVusPPgM</td>\n",
       "      <td>30</td>\n",
       "      <td>chicken clucking</td>\n",
       "      <td>train</td>\n",
       "    </tr>\n",
       "    <tr>\n",
       "      <th>199175</th>\n",
       "      <td>zzwbG0dHLhI</td>\n",
       "      <td>150</td>\n",
       "      <td>lawn mowing</td>\n",
       "      <td>train</td>\n",
       "    </tr>\n",
       "  </tbody>\n",
       "</table>\n",
       "<p>199176 rows × 4 columns</p>\n",
       "</div>"
      ],
      "text/plain": [
       "               link  start_second            description  train\n",
       "0       ---g-f_I2yQ             1        people marching   test\n",
       "1       --0PQM4-hqg            30     waterfall burbling  train\n",
       "2       --56QUhyDQM           185         playing tennis  train\n",
       "3       --5OkAjCI7g            40  people belly laughing  train\n",
       "4       --8puiAGLhs            30    car engine starting  train\n",
       "...             ...           ...                    ...    ...\n",
       "199171  zzsUhaDSqzI           145         lathe spinning  train\n",
       "199172  zztvx3WUBss            30       people shuffling  train\n",
       "199173  zzvCPtdNxNo            68    civil defense siren   test\n",
       "199174  zzvSVusPPgM            30       chicken clucking  train\n",
       "199175  zzwbG0dHLhI           150            lawn mowing  train\n",
       "\n",
       "[199176 rows x 4 columns]"
      ]
     },
     "execution_count": 8,
     "metadata": {},
     "output_type": "execute_result"
    }
   ],
   "source": [
    "df"
   ]
  },
  {
   "cell_type": "code",
   "execution_count": 9,
   "metadata": {},
   "outputs": [],
   "source": [
    "from __future__ import unicode_literals\n",
    "import youtube_dl"
   ]
  },
  {
   "cell_type": "code",
   "execution_count": 10,
   "metadata": {},
   "outputs": [],
   "source": [
    "ydl_opts = {\n",
    "    'format': 'bestaudio/best',\n",
    "    'postprocessors': [{\n",
    "        'key': 'FFmpegExtractAudio',\n",
    "        'preferredcodec': 'wav',\n",
    "        'preferredquality': '192'\n",
    "    }],\n",
    "    'postprocessor_args': [\n",
    "        '-ar', '16000'\n",
    "    ],\n",
    "    'outtmpl':\"trial\"+'.%(ext)s'\n",
    "}"
   ]
  },
  {
   "cell_type": "code",
   "execution_count": 11,
   "metadata": {},
   "outputs": [],
   "source": [
    "def download_link(link, ydl_opts):\n",
    "    with youtube_dl.YoutubeDL(ydl_opts) as ydl:\n",
    "        ydl.download([link])"
   ]
  },
  {
   "cell_type": "code",
   "execution_count": 12,
   "metadata": {},
   "outputs": [],
   "source": [
    "df_train = df[df['train'] == 'train']"
   ]
  },
  {
   "cell_type": "code",
   "execution_count": 13,
   "metadata": {},
   "outputs": [],
   "source": [
    "description = df_train['description']\n",
    "description = set(list(description[description.str.find('people') != -1]))"
   ]
  },
  {
   "cell_type": "code",
   "execution_count": 14,
   "metadata": {},
   "outputs": [
    {
     "data": {
      "text/plain": [
       "{'people babbling',\n",
       " 'people battle cry',\n",
       " 'people belly laughing',\n",
       " 'people booing',\n",
       " 'people burping',\n",
       " 'people cheering',\n",
       " 'people clapping',\n",
       " 'people coughing',\n",
       " 'people crowd',\n",
       " 'people eating',\n",
       " 'people eating apple',\n",
       " 'people eating crisps',\n",
       " 'people eating noodle',\n",
       " 'people farting',\n",
       " 'people finger snapping',\n",
       " 'people gargling',\n",
       " 'people giggling',\n",
       " 'people hiccup',\n",
       " 'people humming',\n",
       " 'people marching',\n",
       " 'people nose blowing',\n",
       " 'people running',\n",
       " 'people screaming',\n",
       " 'people shuffling',\n",
       " 'people slapping',\n",
       " 'people slurping',\n",
       " 'people sneezing',\n",
       " 'people sniggering',\n",
       " 'people sobbing',\n",
       " 'people whispering',\n",
       " 'people whistling'}"
      ]
     },
     "execution_count": 14,
     "metadata": {},
     "output_type": "execute_result"
    }
   ],
   "source": [
    "description"
   ]
  },
  {
   "cell_type": "code",
   "execution_count": 21,
   "metadata": {},
   "outputs": [],
   "source": [
    "selected_desc = ['people sobbing']"
   ]
  },
  {
   "cell_type": "code",
   "execution_count": 22,
   "metadata": {},
   "outputs": [
    {
     "name": "stdout",
     "output_type": "stream",
     "text": [
      "https://www.youtube.com/watch?v=6aWnK1GyeJY\n",
      "[youtube] 6aWnK1GyeJY: Downloading webpage\n",
      "[download] Destination: 6aWnK1GyeJY.m4a\n",
      "[download] 100% of 683.31KiB in 00:11\n",
      "[ffmpeg] Correcting container in \"6aWnK1GyeJY.m4a\"\n",
      "[ffmpeg] Destination: 6aWnK1GyeJY.wav\n",
      "Deleting original file 6aWnK1GyeJY.m4a (pass -k to keep)\n",
      "mv: cannot move './6aWnK1GyeJY.wav' to 'asset/audio/people_sobbing/': Not a directory\n",
      "https://www.youtube.com/watch?v=6cAoOtvgS7I\n",
      "[youtube] 6cAoOtvgS7I: Downloading webpage\n",
      "[download] Destination: 6cAoOtvgS7I.m4a\n",
      "[download] 100% of 1.05MiB in 00:20\n",
      "[ffmpeg] Correcting container in \"6cAoOtvgS7I.m4a\"\n",
      "[ffmpeg] Destination: 6cAoOtvgS7I.wav\n",
      "Deleting original file 6cAoOtvgS7I.m4a (pass -k to keep)\n",
      "mv: cannot move './6cAoOtvgS7I.wav' to 'asset/audio/people_sobbing/': Not a directory\n",
      "https://www.youtube.com/watch?v=6xu13pTAguU\n",
      "[youtube] 6xu13pTAguU: Downloading webpage\n"
     ]
    },
    {
     "name": "stderr",
     "output_type": "stream",
     "text": [
      "ERROR: This video has been removed for violating YouTube's Terms of Service\n"
     ]
    },
    {
     "name": "stdout",
     "output_type": "stream",
     "text": [
      "https://www.youtube.com/watch?v=717ubaGGUnY\n",
      "[youtube] 717ubaGGUnY: Downloading webpage\n",
      "[download] Destination: 717ubaGGUnY.webm\n",
      "[download] 100% of 922.55KiB in 00:19\n",
      "[ffmpeg] Destination: 717ubaGGUnY.wav\n",
      "Deleting original file 717ubaGGUnY.webm (pass -k to keep)\n",
      "mv: cannot move './717ubaGGUnY.wav' to 'asset/audio/people_sobbing/': Not a directory\n",
      "https://www.youtube.com/watch?v=71f8YpOfee0\n",
      "[youtube] 71f8YpOfee0: Downloading webpage\n"
     ]
    },
    {
     "name": "stderr",
     "output_type": "stream",
     "text": [
      "ERROR: Video unavailable\n",
      "This video is no longer available because the YouTube account associated with this video has been terminated.\n"
     ]
    },
    {
     "name": "stdout",
     "output_type": "stream",
     "text": [
      "https://www.youtube.com/watch?v=73phKdahss8\n",
      "[youtube] 73phKdahss8: Downloading webpage\n",
      "[download] Destination: 73phKdahss8.m4a\n",
      "[download] 100% of 1.06MiB in 00:16\n",
      "[ffmpeg] Correcting container in \"73phKdahss8.m4a\"\n",
      "[ffmpeg] Destination: 73phKdahss8.wav\n",
      "Deleting original file 73phKdahss8.m4a (pass -k to keep)\n",
      "mv: cannot move './73phKdahss8.wav' to 'asset/audio/people_sobbing/': Not a directory\n",
      "https://www.youtube.com/watch?v=74VQWcrpNds\n",
      "[youtube] 74VQWcrpNds: Downloading webpage\n",
      "[download] Destination: 74VQWcrpNds.webm\n",
      "[download] 100% of 751.41KiB in 00:09\n",
      "[ffmpeg] Destination: 74VQWcrpNds.wav\n",
      "Deleting original file 74VQWcrpNds.webm (pass -k to keep)\n",
      "mv: cannot move './74VQWcrpNds.wav' to 'asset/audio/people_sobbing/': Not a directory\n",
      "https://www.youtube.com/watch?v=78yrwc9y1ik\n",
      "[youtube] 78yrwc9y1ik: Downloading webpage\n",
      "[youtube] 78yrwc9y1ik: Downloading MPD manifest\n",
      "[download] Destination: 78yrwc9y1ik.m4a\n",
      "[download] 100% of 511.52KiB in 00:10\n",
      "[ffmpeg] Correcting container in \"78yrwc9y1ik.m4a\"\n",
      "[ffmpeg] Destination: 78yrwc9y1ik.wav\n",
      "Deleting original file 78yrwc9y1ik.m4a (pass -k to keep)\n",
      "mv: cannot move './78yrwc9y1ik.wav' to 'asset/audio/people_sobbing/': Not a directory\n",
      "https://www.youtube.com/watch?v=794CLziIitU\n",
      "[youtube] 794CLziIitU: Downloading webpage\n",
      "[download] Destination: 794CLziIitU.m4a\n",
      "[download] 100% of 1.69MiB in 00:39\n",
      "[ffmpeg] Correcting container in \"794CLziIitU.m4a\"\n",
      "[ffmpeg] Destination: 794CLziIitU.wav\n",
      "Deleting original file 794CLziIitU.m4a (pass -k to keep)\n",
      "mv: cannot move './794CLziIitU.wav' to 'asset/audio/people_sobbing/': Not a directory\n",
      "https://www.youtube.com/watch?v=7J4YOTk3YtU\n",
      "[youtube] 7J4YOTk3YtU: Downloading webpage\n"
     ]
    },
    {
     "name": "stderr",
     "output_type": "stream",
     "text": [
      "ERROR: Video unavailable\n",
      "This video is no longer available because the YouTube account associated with this video has been terminated.\n"
     ]
    },
    {
     "name": "stdout",
     "output_type": "stream",
     "text": [
      "https://www.youtube.com/watch?v=7M0ccZlI3CY\n",
      "[youtube] 7M0ccZlI3CY: Downloading webpage\n"
     ]
    },
    {
     "name": "stderr",
     "output_type": "stream",
     "text": [
      "ERROR: Private video\n",
      "Sign in if you've been granted access to this video\n"
     ]
    },
    {
     "name": "stdout",
     "output_type": "stream",
     "text": [
      "https://www.youtube.com/watch?v=7bwPaRFRZe8\n",
      "[youtube] 7bwPaRFRZe8: Downloading webpage\n"
     ]
    },
    {
     "name": "stderr",
     "output_type": "stream",
     "text": [
      "ERROR: This video has been removed for violating YouTube's Terms of Service\n"
     ]
    },
    {
     "name": "stdout",
     "output_type": "stream",
     "text": [
      "https://www.youtube.com/watch?v=7hyM_EqSO1g\n",
      "[youtube] 7hyM_EqSO1g: Downloading webpage\n"
     ]
    },
    {
     "name": "stderr",
     "output_type": "stream",
     "text": [
      "ERROR: This video has been removed for violating YouTube's Terms of Service\n"
     ]
    },
    {
     "name": "stdout",
     "output_type": "stream",
     "text": [
      "https://www.youtube.com/watch?v=7kRq3CX0TCY\n",
      "[youtube] 7kRq3CX0TCY: Downloading webpage\n",
      "[download] Destination: 7kRq3CX0TCY.webm\n",
      "[download] 100% of 806.35KiB in 00:13\n",
      "[ffmpeg] Destination: 7kRq3CX0TCY.wav\n",
      "Deleting original file 7kRq3CX0TCY.webm (pass -k to keep)\n",
      "mv: cannot move './7kRq3CX0TCY.wav' to 'asset/audio/people_sobbing/': Not a directory\n",
      "https://www.youtube.com/watch?v=7oMLX-4ACek\n",
      "[youtube] 7oMLX-4ACek: Downloading webpage\n",
      "[youtube] 7oMLX-4ACek: Downloading MPD manifest\n",
      "[download] Destination: 7oMLX-4ACek.m4a\n",
      "[download] 100% of 871.92KiB in 00:16\n",
      "[ffmpeg] Correcting container in \"7oMLX-4ACek.m4a\"\n",
      "[ffmpeg] Destination: 7oMLX-4ACek.wav\n",
      "Deleting original file 7oMLX-4ACek.m4a (pass -k to keep)\n",
      "mv: cannot move './7oMLX-4ACek.wav' to 'asset/audio/people_sobbing/': Not a directory\n",
      "https://www.youtube.com/watch?v=7sDA7Nnf2XA\n",
      "[youtube] 7sDA7Nnf2XA: Downloading webpage\n",
      "[download] Destination: 7sDA7Nnf2XA.m4a\n",
      "[download] 100% of 1.87MiB in 00:30\n",
      "[ffmpeg] Correcting container in \"7sDA7Nnf2XA.m4a\"\n",
      "[ffmpeg] Destination: 7sDA7Nnf2XA.wav\n",
      "Deleting original file 7sDA7Nnf2XA.m4a (pass -k to keep)\n",
      "mv: cannot move './7sDA7Nnf2XA.wav' to 'asset/audio/people_sobbing/': Not a directory\n",
      "https://www.youtube.com/watch?v=7we4oftPEXo\n",
      "[youtube] 7we4oftPEXo: Downloading webpage\n",
      "[download] Destination: 7we4oftPEXo.m4a\n",
      "[download] 100% of 7.75MiB in 01:40\n",
      "[ffmpeg] Correcting container in \"7we4oftPEXo.m4a\"\n",
      "[ffmpeg] Destination: 7we4oftPEXo.wav\n",
      "Deleting original file 7we4oftPEXo.m4a (pass -k to keep)\n",
      "mv: cannot move './7we4oftPEXo.wav' to 'asset/audio/people_sobbing/': Not a directory\n",
      "https://www.youtube.com/watch?v=8AVztYoEXkY\n",
      "[youtube] 8AVztYoEXkY: Downloading webpage\n",
      "[download] Destination: 8AVztYoEXkY.webm\n",
      "[download] 100% of 1.61MiB in 00:25\n",
      "[ffmpeg] Destination: 8AVztYoEXkY.wav\n",
      "Deleting original file 8AVztYoEXkY.webm (pass -k to keep)\n",
      "mv: cannot move './8AVztYoEXkY.wav' to 'asset/audio/people_sobbing/': Not a directory\n",
      "https://www.youtube.com/watch?v=8AkmHUuIUZo\n",
      "[youtube] 8AkmHUuIUZo: Downloading webpage\n"
     ]
    },
    {
     "name": "stderr",
     "output_type": "stream",
     "text": [
      "ERROR: unable to download video data: HTTP Error 403: Forbidden\n"
     ]
    },
    {
     "name": "stdout",
     "output_type": "stream",
     "text": [
      "https://www.youtube.com/watch?v=8NyyKliIN74\n",
      "[youtube] 8NyyKliIN74: Downloading webpage\n",
      "[download] Destination: 8NyyKliIN74.m4a\n",
      "[download] 100% of 1.88MiB in 00:32\n",
      "[ffmpeg] Correcting container in \"8NyyKliIN74.m4a\"\n",
      "[ffmpeg] Destination: 8NyyKliIN74.wav\n",
      "Deleting original file 8NyyKliIN74.m4a (pass -k to keep)\n",
      "mv: cannot move './8NyyKliIN74.wav' to 'asset/audio/people_sobbing/': Not a directory\n",
      "https://www.youtube.com/watch?v=8VZs-wTEuCE\n",
      "[youtube] 8VZs-wTEuCE: Downloading webpage\n",
      "[youtube] 8VZs-wTEuCE: Downloading MPD manifest\n",
      "[download] Destination: 8VZs-wTEuCE.m4a\n",
      "[download] 100% of 522.42KiB in 00:10\n",
      "[ffmpeg] Correcting container in \"8VZs-wTEuCE.m4a\"\n",
      "[ffmpeg] Destination: 8VZs-wTEuCE.wav\n",
      "Deleting original file 8VZs-wTEuCE.m4a (pass -k to keep)\n",
      "mv: cannot move './8VZs-wTEuCE.wav' to 'asset/audio/people_sobbing/': Not a directory\n",
      "https://www.youtube.com/watch?v=8WtFMfpckrA\n",
      "[youtube] 8WtFMfpckrA: Downloading webpage\n"
     ]
    },
    {
     "name": "stderr",
     "output_type": "stream",
     "text": [
      "ERROR: unable to download video data: HTTP Error 403: Forbidden\n"
     ]
    },
    {
     "name": "stdout",
     "output_type": "stream",
     "text": [
      "https://www.youtube.com/watch?v=8_vVSuejD9E\n",
      "[youtube] 8_vVSuejD9E: Downloading webpage\n",
      "[download] Destination: 8_vVSuejD9E.webm\n",
      "[download] 100% of 1.19MiB in 00:26\n",
      "[ffmpeg] Destination: 8_vVSuejD9E.wav\n",
      "Deleting original file 8_vVSuejD9E.webm (pass -k to keep)\n",
      "mv: cannot move './8_vVSuejD9E.wav' to 'asset/audio/people_sobbing/': Not a directory\n",
      "https://www.youtube.com/watch?v=8_vVSuejD9E\n",
      "[youtube] 8_vVSuejD9E: Downloading webpage\n",
      "[download] Destination: 8_vVSuejD9E.webm\n",
      "[download] 100% of 1.19MiB in 00:23\n",
      "[ffmpeg] Destination: 8_vVSuejD9E.wav\n",
      "Deleting original file 8_vVSuejD9E.webm (pass -k to keep)\n",
      "mv: cannot move './8_vVSuejD9E.wav' to 'asset/audio/people_sobbing/': Not a directory\n",
      "https://www.youtube.com/watch?v=8zH_S5qnxEY\n",
      "[youtube] 8zH_S5qnxEY: Downloading webpage\n",
      "[download] Destination: 8zH_S5qnxEY.m4a\n",
      "[download] 100% of 946.35KiB in 00:16\n",
      "[ffmpeg] Correcting container in \"8zH_S5qnxEY.m4a\"\n",
      "[ffmpeg] Destination: 8zH_S5qnxEY.wav\n",
      "Deleting original file 8zH_S5qnxEY.m4a (pass -k to keep)\n",
      "mv: cannot move './8zH_S5qnxEY.wav' to 'asset/audio/people_sobbing/': Not a directory\n",
      "https://www.youtube.com/watch?v=9AkGB_rRbIQ\n",
      "[youtube] 9AkGB_rRbIQ: Downloading webpage\n"
     ]
    },
    {
     "name": "stderr",
     "output_type": "stream",
     "text": [
      "ERROR: Video unavailable\n"
     ]
    },
    {
     "name": "stdout",
     "output_type": "stream",
     "text": [
      "https://www.youtube.com/watch?v=9CNhugdDhs8\n",
      "[youtube] 9CNhugdDhs8: Downloading webpage\n",
      "[youtube] 9CNhugdDhs8: Downloading MPD manifest\n",
      "[download] Destination: 9CNhugdDhs8.m4a\n",
      "[download] 100% of 765.41KiB in 00:10\n",
      "[ffmpeg] Correcting container in \"9CNhugdDhs8.m4a\"\n",
      "[ffmpeg] Destination: 9CNhugdDhs8.wav\n",
      "Deleting original file 9CNhugdDhs8.m4a (pass -k to keep)\n",
      "mv: cannot move './9CNhugdDhs8.wav' to 'asset/audio/people_sobbing/': Not a directory\n",
      "https://www.youtube.com/watch?v=9IX16s12uiU\n",
      "[youtube] 9IX16s12uiU: Downloading webpage\n"
     ]
    },
    {
     "name": "stderr",
     "output_type": "stream",
     "text": [
      "ERROR: Private video\n",
      "Sign in if you've been granted access to this video\n"
     ]
    },
    {
     "name": "stdout",
     "output_type": "stream",
     "text": [
      "https://www.youtube.com/watch?v=9I_PsESRuNk\n",
      "[youtube] 9I_PsESRuNk: Downloading webpage\n"
     ]
    },
    {
     "name": "stderr",
     "output_type": "stream",
     "text": [
      "ERROR: This video has been removed for violating YouTube's Terms of Service\n"
     ]
    },
    {
     "name": "stdout",
     "output_type": "stream",
     "text": [
      "https://www.youtube.com/watch?v=9LkmwSItZlk\n",
      "[youtube] 9LkmwSItZlk: Downloading webpage\n"
     ]
    },
    {
     "name": "stderr",
     "output_type": "stream",
     "text": [
      "ERROR: This video has been removed for violating YouTube's Terms of Service\n"
     ]
    },
    {
     "name": "stdout",
     "output_type": "stream",
     "text": [
      "https://www.youtube.com/watch?v=9W8SKhZ32aw\n",
      "[youtube] 9W8SKhZ32aw: Downloading webpage\n",
      "[youtube] 9W8SKhZ32aw: Downloading MPD manifest\n",
      "[download] Destination: 9W8SKhZ32aw.m4a\n",
      "[download] 100% of 496.87KiB in 00:07\n",
      "[ffmpeg] Correcting container in \"9W8SKhZ32aw.m4a\"\n",
      "[ffmpeg] Destination: 9W8SKhZ32aw.wav\n",
      "Deleting original file 9W8SKhZ32aw.m4a (pass -k to keep)\n",
      "mv: cannot move './9W8SKhZ32aw.wav' to 'asset/audio/people_sobbing/': Not a directory\n",
      "https://www.youtube.com/watch?v=9pO5C-uMvko\n",
      "[youtube] 9pO5C-uMvko: Downloading webpage\n",
      "[download] Destination: 9pO5C-uMvko.webm\n",
      "[download] 100% of 3.98MiB in 01:05\n",
      "[ffmpeg] Destination: 9pO5C-uMvko.wav\n",
      "Deleting original file 9pO5C-uMvko.webm (pass -k to keep)\n",
      "mv: cannot move './9pO5C-uMvko.wav' to 'asset/audio/people_sobbing/': Not a directory\n",
      "https://www.youtube.com/watch?v=9x-64Y8nb_o\n",
      "[youtube] 9x-64Y8nb_o: Downloading webpage\n",
      "[download] Destination: 9x-64Y8nb_o.webm\n",
      "[download]  96.2% of 5.10MiB at 49.24KiB/s ETA 00:04"
     ]
    },
    {
     "name": "stderr",
     "output_type": "stream",
     "text": [
      "ERROR: giving up after 0 retries\n"
     ]
    },
    {
     "name": "stdout",
     "output_type": "stream",
     "text": [
      "https://www.youtube.com/watch?v=A2fwPWv_2vE\n",
      "[youtube] A2fwPWv_2vE: Downloading webpage\n"
     ]
    },
    {
     "name": "stderr",
     "output_type": "stream",
     "text": [
      "ERROR: unable to download video data: HTTP Error 403: Forbidden\n"
     ]
    },
    {
     "name": "stdout",
     "output_type": "stream",
     "text": [
      "https://www.youtube.com/watch?v=AKbhQuZUfII\n",
      "[youtube] AKbhQuZUfII: Downloading webpage\n",
      "[youtube] AKbhQuZUfII: Downloading MPD manifest\n",
      "[download] Destination: AKbhQuZUfII.webm\n",
      "[download] 100% of 722.62KiB in 00:15\n",
      "[ffmpeg] Destination: AKbhQuZUfII.wav\n",
      "Deleting original file AKbhQuZUfII.webm (pass -k to keep)\n",
      "mv: cannot move './AKbhQuZUfII.wav' to 'asset/audio/people_sobbing/': Not a directory\n",
      "https://www.youtube.com/watch?v=AWQb44koUZw\n",
      "[youtube] AWQb44koUZw: Downloading webpage\n",
      "[youtube] AWQb44koUZw: Downloading MPD manifest\n",
      "[download] Destination: AWQb44koUZw.m4a\n",
      "[download] 100% of 148.30KiB in 00:02\n",
      "[ffmpeg] Correcting container in \"AWQb44koUZw.m4a\"\n",
      "[ffmpeg] Destination: AWQb44koUZw.wav\n",
      "Deleting original file AWQb44koUZw.m4a (pass -k to keep)\n",
      "mv: cannot move './AWQb44koUZw.wav' to 'asset/audio/people_sobbing/': Not a directory\n",
      "https://www.youtube.com/watch?v=AfkdeLK90zI\n",
      "[youtube] AfkdeLK90zI: Downloading webpage\n",
      "[download] Destination: AfkdeLK90zI.webm\n",
      "[download] 100% of 282.19KiB in 00:06\n",
      "[ffmpeg] Destination: AfkdeLK90zI.wav\n",
      "Deleting original file AfkdeLK90zI.webm (pass -k to keep)\n",
      "mv: cannot move './AfkdeLK90zI.wav' to 'asset/audio/people_sobbing/': Not a directory\n",
      "https://www.youtube.com/watch?v=B-JwPz1wcqM\n",
      "[youtube] B-JwPz1wcqM: Downloading webpage\n",
      "[youtube] B-JwPz1wcqM: Downloading MPD manifest\n",
      "[download] Destination: B-JwPz1wcqM.m4a\n",
      "[download] 100% of 1.66MiB in 00:28\n",
      "[ffmpeg] Correcting container in \"B-JwPz1wcqM.m4a\"\n",
      "[ffmpeg] Destination: B-JwPz1wcqM.wav\n",
      "Deleting original file B-JwPz1wcqM.m4a (pass -k to keep)\n",
      "mv: cannot move './B-JwPz1wcqM.wav' to 'asset/audio/people_sobbing/': Not a directory\n",
      "https://www.youtube.com/watch?v=BGyNvVoOOao\n",
      "[youtube] BGyNvVoOOao: Downloading webpage\n"
     ]
    },
    {
     "name": "stderr",
     "output_type": "stream",
     "text": [
      "ERROR: This video has been removed for violating YouTube's Terms of Service\n"
     ]
    },
    {
     "name": "stdout",
     "output_type": "stream",
     "text": [
      "https://www.youtube.com/watch?v=BNfclSQ7ZKk\n",
      "[youtube] BNfclSQ7ZKk: Downloading webpage\n",
      "[download] Destination: BNfclSQ7ZKk.m4a\n",
      "[download] 100% of 1.06MiB in 00:15\n",
      "[ffmpeg] Correcting container in \"BNfclSQ7ZKk.m4a\"\n",
      "[ffmpeg] Destination: BNfclSQ7ZKk.wav\n",
      "Deleting original file BNfclSQ7ZKk.m4a (pass -k to keep)\n",
      "mv: cannot move './BNfclSQ7ZKk.wav' to 'asset/audio/people_sobbing/': Not a directory\n",
      "https://www.youtube.com/watch?v=BPGg2wCtGgg\n",
      "[youtube] BPGg2wCtGgg: Downloading webpage\n",
      "[download] Destination: BPGg2wCtGgg.m4a\n",
      "[download] 100% of 824.61KiB in 00:13\n",
      "[ffmpeg] Correcting container in \"BPGg2wCtGgg.m4a\"\n",
      "[ffmpeg] Destination: BPGg2wCtGgg.wav\n",
      "Deleting original file BPGg2wCtGgg.m4a (pass -k to keep)\n",
      "mv: cannot move './BPGg2wCtGgg.wav' to 'asset/audio/people_sobbing/': Not a directory\n",
      "https://www.youtube.com/watch?v=BTuzJTJbwQc\n",
      "[youtube] BTuzJTJbwQc: Downloading webpage\n",
      "[download] Destination: BTuzJTJbwQc.webm\n",
      "[download] 100% of 1.24MiB in 00:16\n",
      "[ffmpeg] Destination: BTuzJTJbwQc.wav\n",
      "Deleting original file BTuzJTJbwQc.webm (pass -k to keep)\n",
      "mv: cannot move './BTuzJTJbwQc.wav' to 'asset/audio/people_sobbing/': Not a directory\n",
      "https://www.youtube.com/watch?v=BaG4cQ-bnKc\n",
      "[youtube] BaG4cQ-bnKc: Downloading webpage\n",
      "[youtube] BaG4cQ-bnKc: Downloading MPD manifest\n",
      "[download] Destination: BaG4cQ-bnKc.m4a\n",
      "[download] 100% of 175.26KiB in 00:02\n",
      "[ffmpeg] Correcting container in \"BaG4cQ-bnKc.m4a\"\n",
      "[ffmpeg] Destination: BaG4cQ-bnKc.wav\n",
      "Deleting original file BaG4cQ-bnKc.m4a (pass -k to keep)\n",
      "mv: cannot move './BaG4cQ-bnKc.wav' to 'asset/audio/people_sobbing/': Not a directory\n",
      "https://www.youtube.com/watch?v=Be5QfGlNGN4\n",
      "[youtube] Be5QfGlNGN4: Downloading webpage\n",
      "[download] Destination: Be5QfGlNGN4.webm\n",
      "[download] 100% of 2.18MiB in 00:27\n",
      "[ffmpeg] Destination: Be5QfGlNGN4.wav\n",
      "Deleting original file Be5QfGlNGN4.webm (pass -k to keep)\n",
      "mv: cannot move './Be5QfGlNGN4.wav' to 'asset/audio/people_sobbing/': Not a directory\n",
      "https://www.youtube.com/watch?v=BkTuPNhJGsw\n",
      "[youtube] BkTuPNhJGsw: Downloading webpage\n",
      "[youtube] BkTuPNhJGsw: Downloading MPD manifest\n",
      "[download] Destination: BkTuPNhJGsw.m4a\n",
      "[download] 100% of 1.92MiB in 00:23\n",
      "[ffmpeg] Correcting container in \"BkTuPNhJGsw.m4a\"\n",
      "[ffmpeg] Destination: BkTuPNhJGsw.wav\n",
      "Deleting original file BkTuPNhJGsw.m4a (pass -k to keep)\n",
      "mv: cannot move './BkTuPNhJGsw.wav' to 'asset/audio/people_sobbing/': Not a directory\n"
     ]
    }
   ],
   "source": [
    "for desc in selected_desc:\n",
    "    cnt = 0\n",
    "    df_desc = df_train[df_train['description'] == desc]\n",
    "    folder_name = \"asset/audio/\" + desc.replace(' ', '_') + '/'\n",
    "    for (index, link) in enumerate(df_desc['link']):\n",
    "        if index < 40: continue\n",
    "        ydl_opts['outtmpl'] = link+'.%(ext)s'\n",
    "        print(\"https://www.youtube.com/watch?v=\" + link)\n",
    "        cnt += 1\n",
    "        try:\n",
    "            download_link(\"https://www.youtube.com/watch?v=\" + link, ydl_opts)\n",
    "        except: \n",
    "            cnt -= 1\n",
    "            continue\n",
    "        link = './' + link + '.wav'\n",
    "        ! mv $link $folder_name\n",
    "        if(cnt == 30): break\n",
    "    break"
   ]
  },
  {
   "cell_type": "code",
   "execution_count": null,
   "metadata": {},
   "outputs": [],
   "source": []
  }
 ],
 "metadata": {
  "kernelspec": {
   "display_name": "audio-clip",
   "language": "python",
   "name": "audio-clip"
  },
  "language_info": {
   "codemirror_mode": {
    "name": "ipython",
    "version": 3
   },
   "file_extension": ".py",
   "mimetype": "text/x-python",
   "name": "python",
   "nbconvert_exporter": "python",
   "pygments_lexer": "ipython3",
   "version": "3.7.11"
  }
 },
 "nbformat": 4,
 "nbformat_minor": 2
}
