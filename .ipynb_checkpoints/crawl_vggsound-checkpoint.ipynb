{
 "cells": [
  {
   "cell_type": "code",
   "execution_count": 6,
   "metadata": {},
   "outputs": [],
   "source": [
    "import pandas as pd"
   ]
  },
  {
   "cell_type": "code",
   "execution_count": 7,
   "metadata": {},
   "outputs": [],
   "source": [
    "df = pd.read_csv('vggsound.csv', header = None)\n",
    "df = df.rename(columns={0: 'link', 1: 'start_second', 2:'description', 3:'train'})"
   ]
  },
  {
   "cell_type": "code",
   "execution_count": 8,
   "metadata": {},
   "outputs": [
    {
     "data": {
      "text/html": [
       "<div>\n",
       "<style scoped>\n",
       "    .dataframe tbody tr th:only-of-type {\n",
       "        vertical-align: middle;\n",
       "    }\n",
       "\n",
       "    .dataframe tbody tr th {\n",
       "        vertical-align: top;\n",
       "    }\n",
       "\n",
       "    .dataframe thead th {\n",
       "        text-align: right;\n",
       "    }\n",
       "</style>\n",
       "<table border=\"1\" class=\"dataframe\">\n",
       "  <thead>\n",
       "    <tr style=\"text-align: right;\">\n",
       "      <th></th>\n",
       "      <th>link</th>\n",
       "      <th>start_second</th>\n",
       "      <th>description</th>\n",
       "      <th>train</th>\n",
       "    </tr>\n",
       "  </thead>\n",
       "  <tbody>\n",
       "    <tr>\n",
       "      <th>0</th>\n",
       "      <td>---g-f_I2yQ</td>\n",
       "      <td>1</td>\n",
       "      <td>people marching</td>\n",
       "      <td>test</td>\n",
       "    </tr>\n",
       "    <tr>\n",
       "      <th>1</th>\n",
       "      <td>--0PQM4-hqg</td>\n",
       "      <td>30</td>\n",
       "      <td>waterfall burbling</td>\n",
       "      <td>train</td>\n",
       "    </tr>\n",
       "    <tr>\n",
       "      <th>2</th>\n",
       "      <td>--56QUhyDQM</td>\n",
       "      <td>185</td>\n",
       "      <td>playing tennis</td>\n",
       "      <td>train</td>\n",
       "    </tr>\n",
       "    <tr>\n",
       "      <th>3</th>\n",
       "      <td>--5OkAjCI7g</td>\n",
       "      <td>40</td>\n",
       "      <td>people belly laughing</td>\n",
       "      <td>train</td>\n",
       "    </tr>\n",
       "    <tr>\n",
       "      <th>4</th>\n",
       "      <td>--8puiAGLhs</td>\n",
       "      <td>30</td>\n",
       "      <td>car engine starting</td>\n",
       "      <td>train</td>\n",
       "    </tr>\n",
       "    <tr>\n",
       "      <th>...</th>\n",
       "      <td>...</td>\n",
       "      <td>...</td>\n",
       "      <td>...</td>\n",
       "      <td>...</td>\n",
       "    </tr>\n",
       "    <tr>\n",
       "      <th>199171</th>\n",
       "      <td>zzsUhaDSqzI</td>\n",
       "      <td>145</td>\n",
       "      <td>lathe spinning</td>\n",
       "      <td>train</td>\n",
       "    </tr>\n",
       "    <tr>\n",
       "      <th>199172</th>\n",
       "      <td>zztvx3WUBss</td>\n",
       "      <td>30</td>\n",
       "      <td>people shuffling</td>\n",
       "      <td>train</td>\n",
       "    </tr>\n",
       "    <tr>\n",
       "      <th>199173</th>\n",
       "      <td>zzvCPtdNxNo</td>\n",
       "      <td>68</td>\n",
       "      <td>civil defense siren</td>\n",
       "      <td>test</td>\n",
       "    </tr>\n",
       "    <tr>\n",
       "      <th>199174</th>\n",
       "      <td>zzvSVusPPgM</td>\n",
       "      <td>30</td>\n",
       "      <td>chicken clucking</td>\n",
       "      <td>train</td>\n",
       "    </tr>\n",
       "    <tr>\n",
       "      <th>199175</th>\n",
       "      <td>zzwbG0dHLhI</td>\n",
       "      <td>150</td>\n",
       "      <td>lawn mowing</td>\n",
       "      <td>train</td>\n",
       "    </tr>\n",
       "  </tbody>\n",
       "</table>\n",
       "<p>199176 rows × 4 columns</p>\n",
       "</div>"
      ],
      "text/plain": [
       "               link  start_second            description  train\n",
       "0       ---g-f_I2yQ             1        people marching   test\n",
       "1       --0PQM4-hqg            30     waterfall burbling  train\n",
       "2       --56QUhyDQM           185         playing tennis  train\n",
       "3       --5OkAjCI7g            40  people belly laughing  train\n",
       "4       --8puiAGLhs            30    car engine starting  train\n",
       "...             ...           ...                    ...    ...\n",
       "199171  zzsUhaDSqzI           145         lathe spinning  train\n",
       "199172  zztvx3WUBss            30       people shuffling  train\n",
       "199173  zzvCPtdNxNo            68    civil defense siren   test\n",
       "199174  zzvSVusPPgM            30       chicken clucking  train\n",
       "199175  zzwbG0dHLhI           150            lawn mowing  train\n",
       "\n",
       "[199176 rows x 4 columns]"
      ]
     },
     "execution_count": 8,
     "metadata": {},
     "output_type": "execute_result"
    }
   ],
   "source": [
    "df"
   ]
  },
  {
   "cell_type": "code",
   "execution_count": 9,
   "metadata": {},
   "outputs": [],
   "source": [
    "from __future__ import unicode_literals\n",
    "import youtube_dl"
   ]
  },
  {
   "cell_type": "code",
   "execution_count": 10,
   "metadata": {},
   "outputs": [],
   "source": [
    "ydl_opts = {\n",
    "    'format': 'bestaudio/best',\n",
    "    'postprocessors': [{\n",
    "        'key': 'FFmpegExtractAudio',\n",
    "        'preferredcodec': 'wav',\n",
    "        'preferredquality': '192'\n",
    "    }],\n",
    "    'postprocessor_args': [\n",
    "        '-ar', '16000'\n",
    "    ],\n",
    "    'outtmpl':\"trial\"+'.%(ext)s'\n",
    "}"
   ]
  },
  {
   "cell_type": "code",
   "execution_count": 11,
   "metadata": {},
   "outputs": [],
   "source": [
    "def download_link(link, ydl_opts):\n",
    "    with youtube_dl.YoutubeDL(ydl_opts) as ydl:\n",
    "        ydl.download([link])"
   ]
  },
  {
   "cell_type": "code",
   "execution_count": 12,
   "metadata": {},
   "outputs": [],
   "source": [
    "df_train = df[df['train'] == 'train']"
   ]
  },
  {
   "cell_type": "code",
   "execution_count": 13,
   "metadata": {},
   "outputs": [],
   "source": [
    "description = df_train['description']\n",
    "description = set(list(description[description.str.find('people') != -1]))"
   ]
  },
  {
   "cell_type": "code",
   "execution_count": 14,
   "metadata": {},
   "outputs": [
    {
     "data": {
      "text/plain": [
       "{'people babbling',\n",
       " 'people battle cry',\n",
       " 'people belly laughing',\n",
       " 'people booing',\n",
       " 'people burping',\n",
       " 'people cheering',\n",
       " 'people clapping',\n",
       " 'people coughing',\n",
       " 'people crowd',\n",
       " 'people eating',\n",
       " 'people eating apple',\n",
       " 'people eating crisps',\n",
       " 'people eating noodle',\n",
       " 'people farting',\n",
       " 'people finger snapping',\n",
       " 'people gargling',\n",
       " 'people giggling',\n",
       " 'people hiccup',\n",
       " 'people humming',\n",
       " 'people marching',\n",
       " 'people nose blowing',\n",
       " 'people running',\n",
       " 'people screaming',\n",
       " 'people shuffling',\n",
       " 'people slapping',\n",
       " 'people slurping',\n",
       " 'people sneezing',\n",
       " 'people sniggering',\n",
       " 'people sobbing',\n",
       " 'people whispering',\n",
       " 'people whistling'}"
      ]
     },
     "execution_count": 14,
     "metadata": {},
     "output_type": "execute_result"
    }
   ],
   "source": [
    "description"
   ]
  },
  {
   "cell_type": "code",
   "execution_count": 15,
   "metadata": {},
   "outputs": [],
   "source": [
    "selected_desc = ['people belly laughing', 'people sobbing']"
   ]
  },
  {
   "cell_type": "code",
   "execution_count": 18,
   "metadata": {},
   "outputs": [
    {
     "name": "stdout",
     "output_type": "stream",
     "text": [
      "https://www.youtube.com/watch?v=2Orl7KVMKLU\n",
      "[youtube] 2Orl7KVMKLU: Downloading webpage\n",
      "[youtube] 2Orl7KVMKLU: Downloading MPD manifest\n",
      "[download] Destination: 2Orl7KVMKLU.m4a\n",
      "[download] 100% of 459.76KiB in 00:07\n",
      "[ffmpeg] Correcting container in \"2Orl7KVMKLU.m4a\"\n",
      "[ffmpeg] Destination: 2Orl7KVMKLU.wav\n",
      "Deleting original file 2Orl7KVMKLU.m4a (pass -k to keep)\n",
      "https://www.youtube.com/watch?v=2fKa9tQwQLk\n",
      "[youtube] 2fKa9tQwQLk: Downloading webpage\n",
      "[youtube] 2fKa9tQwQLk: Downloading MPD manifest\n",
      "[download] Destination: 2fKa9tQwQLk.m4a\n",
      "[download] 100% of 1.24MiB in 00:22\n",
      "[ffmpeg] Correcting container in \"2fKa9tQwQLk.m4a\"\n",
      "[ffmpeg] Destination: 2fKa9tQwQLk.wav\n",
      "Deleting original file 2fKa9tQwQLk.m4a (pass -k to keep)\n",
      "https://www.youtube.com/watch?v=311G9W7hqjs\n",
      "[youtube] 311G9W7hqjs: Downloading webpage\n"
     ]
    },
    {
     "name": "stderr",
     "output_type": "stream",
     "text": [
      "ERROR: Video unavailable\n"
     ]
    },
    {
     "name": "stdout",
     "output_type": "stream",
     "text": [
      "https://www.youtube.com/watch?v=31u1Mcbcx4Y\n",
      "[youtube] 31u1Mcbcx4Y: Downloading webpage\n",
      "[download] Destination: 31u1Mcbcx4Y.webm\n",
      "[download] 100% of 847.86KiB in 00:16\n",
      "[ffmpeg] Destination: 31u1Mcbcx4Y.wav\n",
      "Deleting original file 31u1Mcbcx4Y.webm (pass -k to keep)\n",
      "https://www.youtube.com/watch?v=31u1Mcbcx4Y\n",
      "[youtube] 31u1Mcbcx4Y: Downloading webpage\n",
      "[download] Destination: 31u1Mcbcx4Y.webm\n",
      "[download] 100% of 847.86KiB in 00:14\n",
      "[ffmpeg] Destination: 31u1Mcbcx4Y.wav\n",
      "Deleting original file 31u1Mcbcx4Y.webm (pass -k to keep)\n",
      "https://www.youtube.com/watch?v=33bdweWrdnw\n",
      "[youtube] 33bdweWrdnw: Downloading webpage\n"
     ]
    },
    {
     "name": "stderr",
     "output_type": "stream",
     "text": [
      "ERROR: unable to download video data: HTTP Error 403: Forbidden\n"
     ]
    },
    {
     "name": "stdout",
     "output_type": "stream",
     "text": [
      "https://www.youtube.com/watch?v=35k6nkvKHSg\n",
      "[youtube] 35k6nkvKHSg: Downloading webpage\n",
      "[download] Destination: 35k6nkvKHSg.m4a\n",
      "[download] 100% of 4.61MiB in 01:13\n",
      "[ffmpeg] Correcting container in \"35k6nkvKHSg.m4a\"\n",
      "[ffmpeg] Destination: 35k6nkvKHSg.wav\n",
      "Deleting original file 35k6nkvKHSg.m4a (pass -k to keep)\n",
      "https://www.youtube.com/watch?v=3B8_AvjGIFc\n",
      "[youtube] 3B8_AvjGIFc: Downloading webpage\n",
      "[download] Destination: 3B8_AvjGIFc.m4a\n",
      "[download] 100% of 1.77MiB in 00:25\n",
      "[ffmpeg] Correcting container in \"3B8_AvjGIFc.m4a\"\n",
      "[ffmpeg] Destination: 3B8_AvjGIFc.wav\n",
      "Deleting original file 3B8_AvjGIFc.m4a (pass -k to keep)\n",
      "https://www.youtube.com/watch?v=3R5Uv5becck\n",
      "[youtube] 3R5Uv5becck: Downloading webpage\n",
      "[download] Destination: 3R5Uv5becck.m4a\n",
      "[download] 100% of 311.48KiB in 00:07\n",
      "[ffmpeg] Correcting container in \"3R5Uv5becck.m4a\"\n",
      "[ffmpeg] Destination: 3R5Uv5becck.wav\n",
      "Deleting original file 3R5Uv5becck.m4a (pass -k to keep)\n",
      "https://www.youtube.com/watch?v=3R5Uv5becck\n",
      "[youtube] 3R5Uv5becck: Downloading webpage\n",
      "[download] Destination: 3R5Uv5becck.m4a\n",
      "[download] 100% of 311.48KiB in 00:03\n",
      "[ffmpeg] Correcting container in \"3R5Uv5becck.m4a\"\n",
      "[ffmpeg] Destination: 3R5Uv5becck.wav\n",
      "Deleting original file 3R5Uv5becck.m4a (pass -k to keep)\n"
     ]
    }
   ],
   "source": [
    "for desc in selected_desc:\n",
    "    cnt = 0\n",
    "    df_desc = df_train[df_train['description'] == desc]\n",
    "    folder_name = \"asset/audio/\" + desc.replace(' ', '_') + '/'\n",
    "    for (index, link) in enumerate(df_desc['link']):\n",
    "        if index < 20: continue\n",
    "        ydl_opts['outtmpl'] = link+'.%(ext)s'\n",
    "        print(\"https://www.youtube.com/watch?v=\" + link)\n",
    "        cnt += 1\n",
    "        try:\n",
    "            download_link(\"https://www.youtube.com/watch?v=\" + link, ydl_opts)\n",
    "        except: \n",
    "            cnt -= 1\n",
    "            continue\n",
    "        link = './' + link + '.wav'\n",
    "        ! mv $link $folder_name\n",
    "        if(cnt == 8): break\n",
    "    break"
   ]
  },
  {
   "cell_type": "code",
   "execution_count": null,
   "metadata": {},
   "outputs": [],
   "source": []
  }
 ],
 "metadata": {
  "kernelspec": {
   "display_name": "audio-clip",
   "language": "python",
   "name": "audio-clip"
  },
  "language_info": {
   "codemirror_mode": {
    "name": "ipython",
    "version": 3
   },
   "file_extension": ".py",
   "mimetype": "text/x-python",
   "name": "python",
   "nbconvert_exporter": "python",
   "pygments_lexer": "ipython3",
   "version": "3.7.11"
  }
 },
 "nbformat": 4,
 "nbformat_minor": 2
}
